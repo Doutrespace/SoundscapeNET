{
  "cells": [
    {
      "cell_type": "markdown",
      "metadata": {
        "id": "view-in-github",
        "colab_type": "text"
      },
      "source": [
        "<a href=\"https://colab.research.google.com/github/Doutrespace/SoundscapeNET/blob/main/SoundscapeNET.ipynb\" target=\"_parent\"><img src=\"https://colab.research.google.com/assets/colab-badge.svg\" alt=\"Open In Colab\"/></a>"
      ]
    },
    {
      "cell_type": "markdown",
      "metadata": {
        "id": "2nEtJqrQ2OBW"
      },
      "source": [
        "# Transfer Learning with YAMNet for Environmental Sound Classification\n",
        "\n",
        "[YAMNet](https://tfhub.dev/google/yamnet/1) is a pre-trained deep neural network developed by Google that can classify audio events into [521 different classes](https://github.com/tensorflow/models/blob/master/research/audioset/yamnet/yamnet_class_map.csv), including everyday sounds such as laughter, barking, or a siren. Originally trained on a large corpus of diverse audio data from YouTube, YAMNet is capable of robustly recognizing a wide array of sound events.\n",
        "\n",
        "In this tutorial, you will learn how to:\n",
        "\n",
        "1. **Load and use the YAMNet model for inference:** You'll start by loading the pre-trained YAMNet model and using it to predict the classes of sounds in audio clips.\n",
        "\n",
        "2. **Build a new model using YAMNet embeddings:** We'll use YAMNet as a feature extractor to create embeddings from your audio data. These embeddings will serve as the input for a new model that you will build and train to classify specific sounds such as cat and dog sounds.\n",
        "\n",
        "3. **Evaluate and export your model:** After training, you'll evaluate the performance of your new model on a test dataset and learn how to save and export the model for later use.\n",
        "\n",
        "This hands-on approach will provide you with practical experience and a solid foundation in applying deep learning techniques for environmental sound classification using transfer learning.\n"
      ]
    },
    {
      "cell_type": "markdown",
      "metadata": {
        "id": "aMujxqVa4J4v"
      },
      "source": [
        "Start by installing [TensorFlow I/O](https://www.tensorflow.org/io), which will make it easier for you to load audio files off disk."
      ]
    },
    {
      "cell_type": "code",
      "execution_count": 20,
      "metadata": {
        "id": "0uyLC52422_l"
      },
      "outputs": [],
      "source": [
        "!pip install -q \"tensorflow==2.11.*\"\n",
        "# tensorflow_io 0.28 is compatible with TensorFlow 2.11\n",
        "!pip install -q \"tensorflow_io==0.28.*\"\n",
        "#!pip install -U tensorflow-io\n",
        "#!pip uninstall -y tensorflow tensorflow-io  # Uninstall both libraries\n",
        "#!pip install tensorflow==2.15.0             # Install the specific TensorFlow version\n",
        "#!pip install tensorflow-io                  # Install the latest compatible TensorFlow I/O\n",
        "\n"
      ]
    },
    {
      "cell_type": "code",
      "execution_count": 21,
      "metadata": {
        "id": "mpQmQd2t4LKq",
        "colab": {
          "base_uri": "https://localhost:8080/"
        },
        "outputId": "ec38952a-c80f-42c7-aa63-5d85440a94ec"
      },
      "outputs": [
        {
          "output_type": "stream",
          "name": "stdout",
          "text": [
            "Drive already mounted at /content/drive; to attempt to forcibly remount, call drive.mount(\"/content/drive\", force_remount=True).\n",
            "Found 90 WAV files.\n"
          ]
        }
      ],
      "source": [
        "from google.colab import drive\n",
        "import os\n",
        "import tensorflow as tf\n",
        "import tensorflow_io as tfio\n",
        "import matplotlib.pyplot as plt\n",
        "from IPython.display import Audio, display\n",
        "\n",
        "# Mount Google Drive\n",
        "drive.mount('/content/drive')\n",
        "\n",
        "# Define the directory containing your audio files\n",
        "audio_folder = '/content/drive/MyDrive/SoundscapesWuerzburg'\n",
        "\n",
        "# List all WAV files in the directory, accommodating both lowercase and uppercase extensions\n",
        "audio_files = [os.path.join(audio_folder, f) for f in os.listdir(audio_folder) if f.lower().endswith('.wav')]\n",
        "print(f\"Found {len(audio_files)} WAV files.\")"
      ]
    },
    {
      "cell_type": "code",
      "execution_count": 22,
      "metadata": {
        "id": "Rz1ASaNX4j1j"
      },
      "outputs": [],
      "source": [
        "# Utility function to load and resample a WAV file\n",
        "def load_wav_16k_mono(filename):\n",
        "    \"\"\"Load a WAV file, convert it to a float tensor, resample to 16 kHz single-channel audio.\"\"\"\n",
        "    file_contents = tf.io.read_file(filename)\n",
        "    wav, sample_rate = tf.audio.decode_wav(file_contents, desired_channels=1)\n",
        "    wav = tf.squeeze(wav, axis=-1)\n",
        "    if sample_rate != 16000:\n",
        "        wav = tfio.audio.resample(wav, rate_in=tf.cast(sample_rate, tf.int64), rate_out=16000)\n",
        "    return wav\n",
        "\n",
        "# Function to process and display a single audio file\n",
        "def process_and_display_audio(file_path):\n",
        "    \"\"\"Process a single WAV file and plot its waveform.\"\"\"\n",
        "    wav_data = load_wav_16k_mono(file_path)\n",
        "    plt.figure(figsize=(10, 4))\n",
        "    plt.plot(wav_data.numpy())\n",
        "    plt.title(f\"Waveform of Audio File: {os.path.basename(file_path)}\")\n",
        "    plt.xlabel(\"Samples\")\n",
        "    plt.ylabel(\"Amplitude\")\n",
        "    plt.show()\n",
        "    display(Audio(wav_data, rate=16000))"
      ]
    },
    {
      "cell_type": "code",
      "execution_count": 26,
      "metadata": {
        "colab": {
          "base_uri": "https://localhost:8080/",
          "height": 494
        },
        "id": "WtSecu8E4j8F",
        "outputId": "06c6e061-8093-451b-b5fe-9e49d2cd4ec4"
      },
      "outputs": [
        {
          "output_type": "stream",
          "name": "stderr",
          "text": [
            "WARNING:tensorflow:5 out of the last 5 calls to <function pfor.<locals>.f at 0x7ae8289a4f70> triggered tf.function retracing. Tracing is expensive and the excessive number of tracings could be due to (1) creating @tf.function repeatedly in a loop, (2) passing tensors with different shapes, (3) passing Python objects instead of tensors. For (1), please define your @tf.function outside of the loop. For (2), @tf.function has reduce_retracing=True option that can avoid unnecessary retracing. For (3), please refer to https://www.tensorflow.org/guide/function#controlling_retracing and https://www.tensorflow.org/api_docs/python/tf/function for  more details.\n"
          ]
        },
        {
          "output_type": "display_data",
          "data": {
            "text/plain": [
              "<Figure size 1000x400 with 1 Axes>"
            ],
            "image/png": "[encoded data removed]"
          },
          "metadata": {}
        },
        {
          "output_type": "display_data",
          "data": {
            "text/plain": [
              "<IPython.lib.display.Audio object>"
            ],
            "text/html": [
              "\n",
              "                <audio  controls=\"controls\" >\n",
              "                    <source src=\"data:audio/wav;base64,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\" type=\"audio/wav\" />\n",
              "                    Your browser does not support the audio element.\n",
              "                </audio>\n",
              "              "
            ]
          },
          "metadata": {}
        }
      ],
      "source": [
        "# Process the first WAV file in the directory to demonstrate\n",
        "if audio_files:\n",
        "    process_and_display_audio(audio_files[48])  # Process the first audio file\n",
        "else:\n",
        "    print(\"No WAV files found in the directory.\")"
      ]
    },
    {
      "cell_type": "markdown",
      "metadata": {
        "id": "dh6IkKg_8DVE"
      },
      "source": [
        "### Load the class mapping\n",
        "\n",
        "It's important to load the class names that YAMNet is able to recognize. The mapping file is present at `yamnet_model.class_map_path()` in the CSV format."
      ]
    },
    {
      "cell_type": "code",
      "execution_count": 29,
      "metadata": {
        "colab": {
          "base_uri": "https://localhost:8080/"
        },
        "id": "vYswTp9q7944",
        "outputId": "901f3d64-c596-4536-831a-07ed9b7dbee2"
      },
      "outputs": [
        {
          "output_type": "stream",
          "name": "stdout",
          "text": [
            "Speech\n",
            "Child speech, kid speaking\n",
            "Conversation\n",
            "Narration, monologue\n",
            "Babbling\n",
            "Speech synthesizer\n",
            "Shout\n",
            "Bellow\n",
            "Whoop\n",
            "Yell\n",
            "Children shouting\n",
            "Screaming\n",
            "Whispering\n",
            "Laughter\n",
            "Baby laughter\n",
            "Giggle\n",
            "Snicker\n",
            "Belly laugh\n",
            "Chuckle, chortle\n",
            "Crying, sobbing\n",
            "...\n"
          ]
        }
      ],
      "source": [
        "class_map_path = yamnet_model.class_map_path().numpy().decode('utf-8')\n",
        "class_names =list(pd.read_csv(class_map_path)['display_name'])\n",
        "\n",
        "for name in class_names[:20]:\n",
        "  print(name)\n",
        "print('...')"
      ]
    },
    {
      "cell_type": "markdown",
      "metadata": {
        "id": "b_DaFbcC8PrG"
      },
      "source": [
        "### Run inference\n",
        "\n",
        "YAMNet provides frame-level class-scores (i.e., 521 scores for every frame). In order to determine clip-level predictions, the scores can be aggregated per-class across frames (e.g., using mean or max aggregation). This is done below by `scores_np.mean(axis=0)`. Finally, to find the top-scored class at the clip-level, you take the maximum of the 521 aggregated scores."
      ]
    },
    {
      "cell_type": "code",
      "source": [
        "# Assuming yamnet_model is already loaded and available for inference\n",
        "def perform_inference(file_path):\n",
        "    # Load and process the audio data\n",
        "    wav_data = load_wav_16k_mono(file_path)\n",
        "\n",
        "    # Run the YAMNet model\n",
        "    scores, embeddings, spectrogram = yamnet_model(wav_data)\n",
        "\n",
        "    # Average the scores and find the class with the highest mean score\n",
        "    class_scores = tf.reduce_mean(scores, axis=0)\n",
        "    top_class = tf.math.argmax(class_scores)\n",
        "    inferred_class = class_names[top_class.numpy()]\n",
        "\n",
        "    # Print the inference results\n",
        "    print(f'The main sound is: {inferred_class}')\n",
        "    print(f'The embeddings shape: {embeddings.shape}')\n",
        "\n",
        "# Example file path from Google Drive\n",
        "audio_file_path = '/content/drive/MyDrive/SoundscapesWuerzburg/20240130_024500.WAV'\n",
        "perform_inference(audio_file_path)\n"
      ],
      "metadata": {
        "colab": {
          "base_uri": "https://localhost:8080/"
        },
        "id": "r8kFd8_hpqm_",
        "outputId": "49566ab2-88da-4370-8f37-50074990d882"
      },
      "execution_count": 32,
      "outputs": [
        {
          "output_type": "stream",
          "name": "stderr",
          "text": [
            "WARNING:tensorflow:6 out of the last 6 calls to <function pfor.<locals>.f at 0x7ae82893cd30> triggered tf.function retracing. Tracing is expensive and the excessive number of tracings could be due to (1) creating @tf.function repeatedly in a loop, (2) passing tensors with different shapes, (3) passing Python objects instead of tensors. For (1), please define your @tf.function outside of the loop. For (2), @tf.function has reduce_retracing=True option that can avoid unnecessary retracing. For (3), please refer to https://www.tensorflow.org/guide/function#controlling_retracing and https://www.tensorflow.org/api_docs/python/tf/function for  more details.\n"
          ]
        },
        {
          "output_type": "stream",
          "name": "stdout",
          "text": [
            "The main sound is: Rustle\n",
            "The embeddings shape: (4, 1024)\n"
          ]
        }
      ]
    },
    {
      "cell_type": "markdown",
      "metadata": {
        "id": "0_FyVtvw8PJq"
      },
      "source": [
        "## The ESC-50\n",
        " dataset (Piczak, 2015) is a labeled collection of 2,000 five-second long environmental audio recordings. The dataset consists of 50 classes, with 40 examples per class.\n",
        "\n",
        "Download the dataset and extract it."
      ]
    },
    {
      "cell_type": "code",
      "execution_count": 34,
      "metadata": {
        "colab": {
          "base_uri": "https://localhost:8080/"
        },
        "id": "2CfKmqbg7-Ag",
        "outputId": "091bad63-2ad7-425f-ef8c-2c4a99e120e2"
      },
      "outputs": [
        {
          "output_type": "stream",
          "name": "stdout",
          "text": [
            "Downloading data from https://github.com/karoldvl/ESC-50/archive/master.zip\n",
            "   8192/Unknown - 0s 0us/step"
          ]
        }
      ],
      "source": [
        "import os\n",
        "import tensorflow as tf\n",
        "\n",
        "# Path to save the dataset on Google Drive\n",
        "drive_path = '/content/drive/My Drive/ESC-50'\n",
        "\n",
        "# Create the directory if it doesn't exist\n",
        "os.makedirs(drive_path, exist_ok=True)\n",
        "\n",
        "# Download and extract the dataset\n",
        "dataset_path = tf.keras.utils.get_file(\n",
        "    'esc-50.zip',\n",
        "    'https://github.com/karoldvl/ESC-50/archive/master.zip',\n",
        "    cache_dir=drive_path,\n",
        "    cache_subdir='',\n",
        "    extract=True\n",
        ")\n",
        "\n",
        "# The extraction path will contain the folder structure from the zip\n",
        "base_data_path = os.path.join(drive_path, 'ESC-50-master/audio/')\n",
        "esc50_csv = os.path.join(drive_path, 'ESC-50-master/meta/esc50.csv')\n",
        "\n",
        "pd_data = pd.read_csv(esc50_csv)\n",
        "pd_data.head()\n"
      ]
    },
    {
      "cell_type": "code",
      "execution_count": 35,
      "metadata": {
        "colab": {
          "base_uri": "https://localhost:8080/",
          "height": 226
        },
        "id": "ONYWWa6k7-DC",
        "outputId": "eb586095-ee42-4cbe-e57a-2789c8697acd"
      },
      "outputs": [
        {
          "output_type": "execute_result",
          "data": {
            "text/plain": [
              "            filename  fold  target        category  esc10  src_file take\n",
              "0   1-100032-A-0.wav     1       0             dog   True    100032    A\n",
              "1  1-100038-A-14.wav     1      14  chirping_birds  False    100038    A\n",
              "2  1-100210-A-36.wav     1      36  vacuum_cleaner  False    100210    A\n",
              "3  1-100210-B-36.wav     1      36  vacuum_cleaner  False    100210    B\n",
              "4  1-101296-A-19.wav     1      19    thunderstorm  False    101296    A"
            ],
            "text/html": [
              "\n",
              "  <div id=\"df-34eec913-7638-489d-9abf-7c2f06460c39\" class=\"colab-df-container\">\n",
              "    <div>\n",
              "<style scoped>\n",
              "    .dataframe tbody tr th:only-of-type {\n",
              "        vertical-align: middle;\n",
              "    }\n",
              "\n",
              "    .dataframe tbody tr th {\n",
              "        vertical-align: top;\n",
              "    }\n",
              "\n",
              "    .dataframe thead th {\n",
              "        text-align: right;\n",
              "    }\n",
              "</style>\n",
              "<table border=\"1\" class=\"dataframe\">\n",
              "  <thead>\n",
              "    <tr style=\"text-align: right;\">\n",
              "      <th></th>\n",
              "      <th>filename</th>\n",
              "      <th>fold</th>\n",
              "      <th>target</th>\n",
              "      <th>category</th>\n",
              "      <th>esc10</th>\n",
              "      <th>src_file</th>\n",
              "      <th>take</th>\n",
              "    </tr>\n",
              "  </thead>\n",
              "  <tbody>\n",
              "    <tr>\n",
              "      <th>0</th>\n",
              "      <td>1-100032-A-0.wav</td>\n",
              "      <td>1</td>\n",
              "      <td>0</td>\n",
              "      <td>dog</td>\n",
              "      <td>True</td>\n",
              "      <td>100032</td>\n",
              "      <td>A</td>\n",
              "    </tr>\n",
              "    <tr>\n",
              "      <th>1</th>\n",
              "      <td>1-100038-A-14.wav</td>\n",
              "      <td>1</td>\n",
              "      <td>14</td>\n",
              "      <td>chirping_birds</td>\n",
              "      <td>False</td>\n",
              "      <td>100038</td>\n",
              "      <td>A</td>\n",
              "    </tr>\n",
              "    <tr>\n",
              "      <th>2</th>\n",
              "      <td>1-100210-A-36.wav</td>\n",
              "      <td>1</td>\n",
              "      <td>36</td>\n",
              "      <td>vacuum_cleaner</td>\n",
              "      <td>False</td>\n",
              "      <td>100210</td>\n",
              "      <td>A</td>\n",
              "    </tr>\n",
              "    <tr>\n",
              "      <th>3</th>\n",
              "      <td>1-100210-B-36.wav</td>\n",
              "      <td>1</td>\n",
              "      <td>36</td>\n",
              "      <td>vacuum_cleaner</td>\n",
              "      <td>False</td>\n",
              "      <td>100210</td>\n",
              "      <td>B</td>\n",
              "    </tr>\n",
              "    <tr>\n",
              "      <th>4</th>\n",
              "      <td>1-101296-A-19.wav</td>\n",
              "      <td>1</td>\n",
              "      <td>19</td>\n",
              "      <td>thunderstorm</td>\n",
              "      <td>False</td>\n",
              "      <td>101296</td>\n",
              "      <td>A</td>\n",
              "    </tr>\n",
              "  </tbody>\n",
              "</table>\n",
              "</div>\n",
              "    <div class=\"colab-df-buttons\">\n",
              "\n",
              "  <div class=\"colab-df-container\">\n",
              "    <button class=\"colab-df-convert\" onclick=\"convertToInteractive('df-34eec913-7638-489d-9abf-7c2f06460c39')\"\n",
              "            title=\"Convert this dataframe to an interactive table.\"\n",
              "            style=\"display:none;\">\n",
              "\n",
              "  <svg xmlns=\"http://www.w3.org/2000/svg\" height=\"24px\" viewBox=\"0 -960 960 960\">\n",
              "    <path d=\"M120-120v-720h720v720H120Zm60-500h600v-160H180v160Zm220 220h160v-160H400v160Zm0 220h160v-160H400v160ZM180-400h160v-160H180v160Zm440 0h160v-160H620v160ZM180-180h160v-160H180v160Zm440 0h160v-160H620v160Z\"/>\n",
              "  </svg>\n",
              "    </button>\n",
              "\n",
              "  <style>\n",
              "    .colab-df-container {\n",
              "      display:flex;\n",
              "      gap: 12px;\n",
              "    }\n",
              "\n",
              "    .colab-df-convert {\n",
              "      background-color: #E8F0FE;\n",
              "      border: none;\n",
              "      border-radius: 50%;\n",
              "      cursor: pointer;\n",
              "      display: none;\n",
              "      fill: #1967D2;\n",
              "      height: 32px;\n",
              "      padding: 0 0 0 0;\n",
              "      width: 32px;\n",
              "    }\n",
              "\n",
              "    .colab-df-convert:hover {\n",
              "      background-color: #E2EBFA;\n",
              "      box-shadow: 0px 1px 2px rgba(60, 64, 67, 0.3), 0px 1px 3px 1px rgba(60, 64, 67, 0.15);\n",
              "      fill: #174EA6;\n",
              "    }\n",
              "\n",
              "    .colab-df-buttons div {\n",
              "      margin-bottom: 4px;\n",
              "    }\n",
              "\n",
              "    [theme=dark] .colab-df-convert {\n",
              "      background-color: #3B4455;\n",
              "      fill: #D2E3FC;\n",
              "    }\n",
              "\n",
              "    [theme=dark] .colab-df-convert:hover {\n",
              "      background-color: #434B5C;\n",
              "      box-shadow: 0px 1px 3px 1px rgba(0, 0, 0, 0.15);\n",
              "      filter: drop-shadow(0px 1px 2px rgba(0, 0, 0, 0.3));\n",
              "      fill: #FFFFFF;\n",
              "    }\n",
              "  </style>\n",
              "\n",
              "    <script>\n",
              "      const buttonEl =\n",
              "        document.querySelector('#df-34eec913-7638-489d-9abf-7c2f06460c39 button.colab-df-convert');\n",
              "      buttonEl.style.display =\n",
              "        google.colab.kernel.accessAllowed ? 'block' : 'none';\n",
              "\n",
              "      async function convertToInteractive(key) {\n",
              "        const element = document.querySelector('#df-34eec913-7638-489d-9abf-7c2f06460c39');\n",
              "        const dataTable =\n",
              "          await google.colab.kernel.invokeFunction('convertToInteractive',\n",
              "                                                    [key], {});\n",
              "        if (!dataTable) return;\n",
              "\n",
              "        const docLinkHtml = 'Like what you see? Visit the ' +\n",
              "          '<a target=\"_blank\" href=https://colab.research.google.com/notebooks/data_table.ipynb>data table notebook</a>'\n",
              "          + ' to learn more about interactive tables.';\n",
              "        element.innerHTML = '';\n",
              "        dataTable['output_type'] = 'display_data';\n",
              "        await google.colab.output.renderOutput(dataTable, element);\n",
              "        const docLink = document.createElement('div');\n",
              "        docLink.innerHTML = docLinkHtml;\n",
              "        element.appendChild(docLink);\n",
              "      }\n",
              "    </script>\n",
              "  </div>\n",
              "\n",
              "\n",
              "<div id=\"df-e2a011cb-29b6-4378-b938-c7dd4716cc52\">\n",
              "  <button class=\"colab-df-quickchart\" onclick=\"quickchart('df-e2a011cb-29b6-4378-b938-c7dd4716cc52')\"\n",
              "            title=\"Suggest charts\"\n",
              "            style=\"display:none;\">\n",
              "\n",
              "<svg xmlns=\"http://www.w3.org/2000/svg\" height=\"24px\"viewBox=\"0 0 24 24\"\n",
              "     width=\"24px\">\n",
              "    <g>\n",
              "        <path d=\"M19 3H5c-1.1 0-2 .9-2 2v14c0 1.1.9 2 2 2h14c1.1 0 2-.9 2-2V5c0-1.1-.9-2-2-2zM9 17H7v-7h2v7zm4 0h-2V7h2v10zm4 0h-2v-4h2v4z\"/>\n",
              "    </g>\n",
              "</svg>\n",
              "  </button>\n",
              "\n",
              "<style>\n",
              "  .colab-df-quickchart {\n",
              "      --bg-color: #E8F0FE;\n",
              "      --fill-color: #1967D2;\n",
              "      --hover-bg-color: #E2EBFA;\n",
              "      --hover-fill-color: #174EA6;\n",
              "      --disabled-fill-color: #AAA;\n",
              "      --disabled-bg-color: #DDD;\n",
              "  }\n",
              "\n",
              "  [theme=dark] .colab-df-quickchart {\n",
              "      --bg-color: #3B4455;\n",
              "      --fill-color: #D2E3FC;\n",
              "      --hover-bg-color: #434B5C;\n",
              "      --hover-fill-color: #FFFFFF;\n",
              "      --disabled-bg-color: #3B4455;\n",
              "      --disabled-fill-color: #666;\n",
              "  }\n",
              "\n",
              "  .colab-df-quickchart {\n",
              "    background-color: var(--bg-color);\n",
              "    border: none;\n",
              "    border-radius: 50%;\n",
              "    cursor: pointer;\n",
              "    display: none;\n",
              "    fill: var(--fill-color);\n",
              "    height: 32px;\n",
              "    padding: 0;\n",
              "    width: 32px;\n",
              "  }\n",
              "\n",
              "  .colab-df-quickchart:hover {\n",
              "    background-color: var(--hover-bg-color);\n",
              "    box-shadow: 0 1px 2px rgba(60, 64, 67, 0.3), 0 1px 3px 1px rgba(60, 64, 67, 0.15);\n",
              "    fill: var(--button-hover-fill-color);\n",
              "  }\n",
              "\n",
              "  .colab-df-quickchart-complete:disabled,\n",
              "  .colab-df-quickchart-complete:disabled:hover {\n",
              "    background-color: var(--disabled-bg-color);\n",
              "    fill: var(--disabled-fill-color);\n",
              "    box-shadow: none;\n",
              "  }\n",
              "\n",
              "  .colab-df-spinner {\n",
              "    border: 2px solid var(--fill-color);\n",
              "    border-color: transparent;\n",
              "    border-bottom-color: var(--fill-color);\n",
              "    animation:\n",
              "      spin 1s steps(1) infinite;\n",
              "  }\n",
              "\n",
              "  @keyframes spin {\n",
              "    0% {\n",
              "      border-color: transparent;\n",
              "      border-bottom-color: var(--fill-color);\n",
              "      border-left-color: var(--fill-color);\n",
              "    }\n",
              "    20% {\n",
              "      border-color: transparent;\n",
              "      border-left-color: var(--fill-color);\n",
              "      border-top-color: var(--fill-color);\n",
              "    }\n",
              "    30% {\n",
              "      border-color: transparent;\n",
              "      border-left-color: var(--fill-color);\n",
              "      border-top-color: var(--fill-color);\n",
              "      border-right-color: var(--fill-color);\n",
              "    }\n",
              "    40% {\n",
              "      border-color: transparent;\n",
              "      border-right-color: var(--fill-color);\n",
              "      border-top-color: var(--fill-color);\n",
              "    }\n",
              "    60% {\n",
              "      border-color: transparent;\n",
              "      border-right-color: var(--fill-color);\n",
              "    }\n",
              "    80% {\n",
              "      border-color: transparent;\n",
              "      border-right-color: var(--fill-color);\n",
              "      border-bottom-color: var(--fill-color);\n",
              "    }\n",
              "    90% {\n",
              "      border-color: transparent;\n",
              "      border-bottom-color: var(--fill-color);\n",
              "    }\n",
              "  }\n",
              "</style>\n",
              "\n",
              "  <script>\n",
              "    async function quickchart(key) {\n",
              "      const quickchartButtonEl =\n",
              "        document.querySelector('#' + key + ' button');\n",
              "      quickchartButtonEl.disabled = true;  // To prevent multiple clicks.\n",
              "      quickchartButtonEl.classList.add('colab-df-spinner');\n",
              "      try {\n",
              "        const charts = await google.colab.kernel.invokeFunction(\n",
              "            'suggestCharts', [key], {});\n",
              "      } catch (error) {\n",
              "        console.error('Error during call to suggestCharts:', error);\n",
              "      }\n",
              "      quickchartButtonEl.classList.remove('colab-df-spinner');\n",
              "      quickchartButtonEl.classList.add('colab-df-quickchart-complete');\n",
              "    }\n",
              "    (() => {\n",
              "      let quickchartButtonEl =\n",
              "        document.querySelector('#df-e2a011cb-29b6-4378-b938-c7dd4716cc52 button');\n",
              "      quickchartButtonEl.style.display =\n",
              "        google.colab.kernel.accessAllowed ? 'block' : 'none';\n",
              "    })();\n",
              "  </script>\n",
              "</div>\n",
              "    </div>\n",
              "  </div>\n"
            ],
            "application/vnd.google.colaboratory.intrinsic+json": {
              "type": "dataframe",
              "variable_name": "pd_data",
              "summary": "{\n  \"name\": \"pd_data\",\n  \"rows\": 2000,\n  \"fields\": [\n    {\n      \"column\": \"filename\",\n      \"properties\": {\n        \"dtype\": \"string\",\n        \"num_unique_values\": 2000,\n        \"samples\": [\n          \"5-221950-A-22.wav\",\n          \"1-79220-A-17.wav\",\n          \"4-165845-A-45.wav\"\n        ],\n        \"semantic_type\": \"\",\n        \"description\": \"\"\n      }\n    },\n    {\n      \"column\": \"fold\",\n      \"properties\": {\n        \"dtype\": \"number\",\n        \"std\": 1,\n        \"min\": 1,\n        \"max\": 5,\n        \"num_unique_values\": 5,\n        \"samples\": [\n          2,\n          5,\n          3\n        ],\n        \"semantic_type\": \"\",\n        \"description\": \"\"\n      }\n    },\n    {\n      \"column\": \"target\",\n      \"properties\": {\n        \"dtype\": \"number\",\n        \"std\": 14,\n        \"min\": 0,\n        \"max\": 49,\n        \"num_unique_values\": 50,\n        \"samples\": [\n          45,\n          18,\n          26\n        ],\n        \"semantic_type\": \"\",\n        \"description\": \"\"\n      }\n    },\n    {\n      \"column\": \"category\",\n      \"properties\": {\n        \"dtype\": \"category\",\n        \"num_unique_values\": 50,\n        \"samples\": [\n          \"train\",\n          \"toilet_flush\",\n          \"laughing\"\n        ],\n        \"semantic_type\": \"\",\n        \"description\": \"\"\n      }\n    },\n    {\n      \"column\": \"esc10\",\n      \"properties\": {\n        \"dtype\": \"boolean\",\n        \"num_unique_values\": 2,\n        \"samples\": [\n          false,\n          true\n        ],\n        \"semantic_type\": \"\",\n        \"description\": \"\"\n      }\n    },\n    {\n      \"column\": \"src_file\",\n      \"properties\": {\n        \"dtype\": \"number\",\n        \"std\": 64882,\n        \"min\": 137,\n        \"max\": 264453,\n        \"num_unique_values\": 1524,\n        \"samples\": [\n          155130,\n          21935\n        ],\n        \"semantic_type\": \"\",\n        \"description\": \"\"\n      }\n    },\n    {\n      \"column\": \"take\",\n      \"properties\": {\n        \"dtype\": \"category\",\n        \"num_unique_values\": 8,\n        \"samples\": [\n          \"B\",\n          \"F\"\n        ],\n        \"semantic_type\": \"\",\n        \"description\": \"\"\n      }\n    }\n  ]\n}"
            }
          },
          "metadata": {},
          "execution_count": 35
        }
      ],
      "source": [
        "pd_data = pd.read_csv(esc50_csv)\n",
        "pd_data.head()"
      ]
    },
    {
      "cell_type": "code",
      "source": [
        "category_to_group = {\n",
        "    'dog': 'Animals',\n",
        "    'rooster': 'Animals',\n",
        "    'pig': 'Animals',\n",
        "    'cow': 'Animals',\n",
        "    'frog': 'Animals',\n",
        "    'cat': 'Animals',\n",
        "    'hen': 'Animals',\n",
        "    'insects': 'Animals',  # flying insects\n",
        "    'sheep': 'Animals',\n",
        "    'crow': 'Animals',\n",
        "    'rain': 'Natural soundscapes & water sounds',\n",
        "    'sea_waves': 'Natural soundscapes & water sounds',\n",
        "    'crackling_fire': 'Natural soundscapes & water sounds',\n",
        "    'crickets': 'Natural soundscapes & water sounds',\n",
        "    'chirping_birds': 'Natural soundscapes & water sounds',\n",
        "    'water_drops': 'Natural soundscapes & water sounds',\n",
        "    'wind': 'Natural soundscapes & water sounds',\n",
        "    'pouring_water': 'Natural soundscapes & water sounds',\n",
        "    'toilet_flush': 'Natural soundscapes & water sounds',\n",
        "    'thunderstorm': 'Natural soundscapes & water sounds',\n",
        "    'crying_baby': 'Human, non-speech sounds',\n",
        "    'sneezing': 'Human, non-speech sounds',\n",
        "    'clapping': 'Human, non-speech sounds',\n",
        "    'breathing': 'Human, non-speech sounds',\n",
        "    'coughing': 'Human, non-speech sounds',\n",
        "    'footsteps': 'Human, non-speech sounds',\n",
        "    'laughing': 'Human, non-speech sounds',\n",
        "    'brushing_teeth': 'Human, non-speech sounds',\n",
        "    'snoring': 'Human, non-speech sounds',\n",
        "    'drinking_sipping': 'Human, non-speech sounds',\n",
        "    'door_knock': 'Interior/domestic sounds',\n",
        "    'mouse_click': 'Interior/domestic sounds',\n",
        "    'keyboard_typing': 'Interior/domestic sounds',\n",
        "    'door_wood_creaks': 'Interior/domestic sounds',\n",
        "    'can_opening': 'Interior/domestic sounds',\n",
        "    'washing_machine': 'Interior/domestic sounds',\n",
        "    'vacuum_cleaner': 'Interior/domestic sounds',\n",
        "    'clock_alarm': 'Interior/domestic sounds',\n",
        "    'clock_tick': 'Interior/domestic sounds',\n",
        "    'glass_breaking': 'Interior/domestic sounds',\n",
        "    'helicopter': 'Exterior/urban noises',\n",
        "    'chainsaw': 'Exterior/urban noises',\n",
        "    'siren': 'Exterior/urban noises',\n",
        "    'car_horn': 'Exterior/urban noises',\n",
        "    'engine': 'Exterior/urban noises',\n",
        "    'train': 'Exterior/urban noises',\n",
        "    'church_bells': 'Exterior/urban noises',\n",
        "    'airplane': 'Exterior/urban noises',\n",
        "    'fireworks': 'Exterior/urban noises',\n",
        "    'hand_saw': 'Exterior/urban noises'\n",
        "}\n"
      ],
      "metadata": {
        "id": "3fZx_BaJr9UG"
      },
      "execution_count": 36,
      "outputs": []
    },
    {
      "cell_type": "code",
      "source": [],
      "metadata": {
        "id": "w-gPUxj9r9XN"
      },
      "execution_count": null,
      "outputs": []
    },
    {
      "cell_type": "code",
      "source": [],
      "metadata": {
        "id": "4LoHSvT0r9Z0"
      },
      "execution_count": null,
      "outputs": []
    },
    {
      "cell_type": "code",
      "execution_count": null,
      "metadata": {
        "id": "IiESkZEm7-Fs"
      },
      "outputs": [],
      "source": [
        "# Define the classes of interest by their presence columns\n",
        "classes_of_interest = ['1_engine_presence', '2_machinery-impact_presence',\n",
        "                       '3_non-machinery-impact_presence', '4_powered-saw_presence',\n",
        "                       '5_alert-signal_presence', '6_music_presence',\n",
        "                       '7_human-voice_presence', '8_dog_presence']\n",
        "\n"
      ]
    },
    {
      "cell_type": "code",
      "execution_count": null,
      "metadata": {
        "colab": {
          "base_uri": "https://localhost:8080/",
          "height": 1000
        },
        "id": "3QKOMxizCKps",
        "outputId": "8b64a782-2df6-43de-b774-f7221a7267f0"
      },
      "outputs": [
        {
          "name": "stderr",
          "output_type": "stream",
          "text": [
            "<ipython-input-11-4d3fda75c57a>:8: SettingWithCopyWarning: \n",
            "A value is trying to be set on a copy of a slice from a DataFrame.\n",
            "Try using .loc[row_indexer,col_indexer] = value instead\n",
            "\n",
            "See the caveats in the documentation: https://pandas.pydata.org/pandas-docs/stable/user_guide/indexing.html#returning-a-view-versus-a-copy\n",
            "  filtered_pd['target'] = (filtered_pd[classes_of_interest] == 1).idxmax(axis=1)\n",
            "<ipython-input-11-4d3fda75c57a>:9: SettingWithCopyWarning: \n",
            "A value is trying to be set on a copy of a slice from a DataFrame.\n",
            "Try using .loc[row_indexer,col_indexer] = value instead\n",
            "\n",
            "See the caveats in the documentation: https://pandas.pydata.org/pandas-docs/stable/user_guide/indexing.html#returning-a-view-versus-a-copy\n",
            "  filtered_pd['target'] = filtered_pd['target'].apply(lambda name: map_class_to_id[name])\n",
            "<ipython-input-11-4d3fda75c57a>:12: SettingWithCopyWarning: \n",
            "A value is trying to be set on a copy of a slice from a DataFrame.\n",
            "Try using .loc[row_indexer,col_indexer] = value instead\n",
            "\n",
            "See the caveats in the documentation: https://pandas.pydata.org/pandas-docs/stable/user_guide/indexing.html#returning-a-view-versus-a-copy\n",
            "  filtered_pd['filename'] = filtered_pd['audio_filename'].apply(lambda x: os.path.join(base_audio_path, x))\n"
          ]
        },
        {
          "data": {
            "application/vnd.google.colaboratory.intrinsic+json": {
              "type": "dataframe",
              "variable_name": "filtered_pd"
            },
            "text/html": [
              "\n",
              "  <div id=\"df-b7290559-dae8-4ca8-af3c-9e9222c60147\" class=\"colab-df-container\">\n",
              "    <div>\n",
              "<style scoped>\n",
              "    .dataframe tbody tr th:only-of-type {\n",
              "        vertical-align: middle;\n",
              "    }\n",
              "\n",
              "    .dataframe tbody tr th {\n",
              "        vertical-align: top;\n",
              "    }\n",
              "\n",
              "    .dataframe thead th {\n",
              "        text-align: right;\n",
              "    }\n",
              "</style>\n",
              "<table border=\"1\" class=\"dataframe\">\n",
              "  <thead>\n",
              "    <tr style=\"text-align: right;\">\n",
              "      <th></th>\n",
              "      <th>split</th>\n",
              "      <th>sensor_id</th>\n",
              "      <th>audio_filename</th>\n",
              "      <th>annotator_id</th>\n",
              "      <th>borough</th>\n",
              "      <th>block</th>\n",
              "      <th>latitude</th>\n",
              "      <th>longitude</th>\n",
              "      <th>year</th>\n",
              "      <th>week</th>\n",
              "      <th>...</th>\n",
              "      <th>1_engine_presence</th>\n",
              "      <th>2_machinery-impact_presence</th>\n",
              "      <th>3_non-machinery-impact_presence</th>\n",
              "      <th>4_powered-saw_presence</th>\n",
              "      <th>5_alert-signal_presence</th>\n",
              "      <th>6_music_presence</th>\n",
              "      <th>7_human-voice_presence</th>\n",
              "      <th>8_dog_presence</th>\n",
              "      <th>target</th>\n",
              "      <th>filename</th>\n",
              "    </tr>\n",
              "  </thead>\n",
              "  <tbody>\n",
              "    <tr>\n",
              "      <th>0</th>\n",
              "      <td>validate</td>\n",
              "      <td>0</td>\n",
              "      <td>00_000066.wav</td>\n",
              "      <td>95</td>\n",
              "      <td>1</td>\n",
              "      <td>547</td>\n",
              "      <td>40.729508</td>\n",
              "      <td>-73.993881</td>\n",
              "      <td>2017</td>\n",
              "      <td>28</td>\n",
              "      <td>...</td>\n",
              "      <td>1</td>\n",
              "      <td>1</td>\n",
              "      <td>1</td>\n",
              "      <td>1</td>\n",
              "      <td>1</td>\n",
              "      <td>1</td>\n",
              "      <td>1</td>\n",
              "      <td>1</td>\n",
              "      <td>0</td>\n",
              "      <td>/content/SONYC-UST/data/audio/00_000066.wav</td>\n",
              "    </tr>\n",
              "    <tr>\n",
              "      <th>1</th>\n",
              "      <td>validate</td>\n",
              "      <td>0</td>\n",
              "      <td>00_000066.wav</td>\n",
              "      <td>108</td>\n",
              "      <td>1</td>\n",
              "      <td>547</td>\n",
              "      <td>40.729508</td>\n",
              "      <td>-73.993881</td>\n",
              "      <td>2017</td>\n",
              "      <td>28</td>\n",
              "      <td>...</td>\n",
              "      <td>1</td>\n",
              "      <td>0</td>\n",
              "      <td>0</td>\n",
              "      <td>0</td>\n",
              "      <td>0</td>\n",
              "      <td>0</td>\n",
              "      <td>0</td>\n",
              "      <td>0</td>\n",
              "      <td>0</td>\n",
              "      <td>/content/SONYC-UST/data/audio/00_000066.wav</td>\n",
              "    </tr>\n",
              "    <tr>\n",
              "      <th>2</th>\n",
              "      <td>validate</td>\n",
              "      <td>0</td>\n",
              "      <td>00_000066.wav</td>\n",
              "      <td>127</td>\n",
              "      <td>1</td>\n",
              "      <td>547</td>\n",
              "      <td>40.729508</td>\n",
              "      <td>-73.993881</td>\n",
              "      <td>2017</td>\n",
              "      <td>28</td>\n",
              "      <td>...</td>\n",
              "      <td>1</td>\n",
              "      <td>0</td>\n",
              "      <td>0</td>\n",
              "      <td>0</td>\n",
              "      <td>0</td>\n",
              "      <td>0</td>\n",
              "      <td>0</td>\n",
              "      <td>0</td>\n",
              "      <td>0</td>\n",
              "      <td>/content/SONYC-UST/data/audio/00_000066.wav</td>\n",
              "    </tr>\n",
              "    <tr>\n",
              "      <th>3</th>\n",
              "      <td>validate</td>\n",
              "      <td>0</td>\n",
              "      <td>00_000071.wav</td>\n",
              "      <td>64</td>\n",
              "      <td>1</td>\n",
              "      <td>547</td>\n",
              "      <td>40.729508</td>\n",
              "      <td>-73.993881</td>\n",
              "      <td>2016</td>\n",
              "      <td>50</td>\n",
              "      <td>...</td>\n",
              "      <td>1</td>\n",
              "      <td>0</td>\n",
              "      <td>0</td>\n",
              "      <td>0</td>\n",
              "      <td>0</td>\n",
              "      <td>0</td>\n",
              "      <td>0</td>\n",
              "      <td>0</td>\n",
              "      <td>0</td>\n",
              "      <td>/content/SONYC-UST/data/audio/00_000071.wav</td>\n",
              "    </tr>\n",
              "    <tr>\n",
              "      <th>4</th>\n",
              "      <td>validate</td>\n",
              "      <td>0</td>\n",
              "      <td>00_000071.wav</td>\n",
              "      <td>66</td>\n",
              "      <td>1</td>\n",
              "      <td>547</td>\n",
              "      <td>40.729508</td>\n",
              "      <td>-73.993881</td>\n",
              "      <td>2016</td>\n",
              "      <td>50</td>\n",
              "      <td>...</td>\n",
              "      <td>0</td>\n",
              "      <td>0</td>\n",
              "      <td>0</td>\n",
              "      <td>1</td>\n",
              "      <td>0</td>\n",
              "      <td>0</td>\n",
              "      <td>0</td>\n",
              "      <td>0</td>\n",
              "      <td>3</td>\n",
              "      <td>/content/SONYC-UST/data/audio/00_000071.wav</td>\n",
              "    </tr>\n",
              "    <tr>\n",
              "      <th>5</th>\n",
              "      <td>validate</td>\n",
              "      <td>0</td>\n",
              "      <td>00_000071.wav</td>\n",
              "      <td>133</td>\n",
              "      <td>1</td>\n",
              "      <td>547</td>\n",
              "      <td>40.729508</td>\n",
              "      <td>-73.993881</td>\n",
              "      <td>2016</td>\n",
              "      <td>50</td>\n",
              "      <td>...</td>\n",
              "      <td>0</td>\n",
              "      <td>1</td>\n",
              "      <td>0</td>\n",
              "      <td>0</td>\n",
              "      <td>0</td>\n",
              "      <td>0</td>\n",
              "      <td>0</td>\n",
              "      <td>0</td>\n",
              "      <td>1</td>\n",
              "      <td>/content/SONYC-UST/data/audio/00_000071.wav</td>\n",
              "    </tr>\n",
              "    <tr>\n",
              "      <th>7</th>\n",
              "      <td>validate</td>\n",
              "      <td>0</td>\n",
              "      <td>00_000085.wav</td>\n",
              "      <td>133</td>\n",
              "      <td>1</td>\n",
              "      <td>547</td>\n",
              "      <td>40.729508</td>\n",
              "      <td>-73.993881</td>\n",
              "      <td>2017</td>\n",
              "      <td>3</td>\n",
              "      <td>...</td>\n",
              "      <td>0</td>\n",
              "      <td>1</td>\n",
              "      <td>0</td>\n",
              "      <td>0</td>\n",
              "      <td>0</td>\n",
              "      <td>0</td>\n",
              "      <td>0</td>\n",
              "      <td>0</td>\n",
              "      <td>1</td>\n",
              "      <td>/content/SONYC-UST/data/audio/00_000085.wav</td>\n",
              "    </tr>\n",
              "    <tr>\n",
              "      <th>8</th>\n",
              "      <td>validate</td>\n",
              "      <td>0</td>\n",
              "      <td>00_000085.wav</td>\n",
              "      <td>152</td>\n",
              "      <td>1</td>\n",
              "      <td>547</td>\n",
              "      <td>40.729508</td>\n",
              "      <td>-73.993881</td>\n",
              "      <td>2017</td>\n",
              "      <td>3</td>\n",
              "      <td>...</td>\n",
              "      <td>1</td>\n",
              "      <td>0</td>\n",
              "      <td>0</td>\n",
              "      <td>1</td>\n",
              "      <td>0</td>\n",
              "      <td>0</td>\n",
              "      <td>0</td>\n",
              "      <td>0</td>\n",
              "      <td>0</td>\n",
              "      <td>/content/SONYC-UST/data/audio/00_000085.wav</td>\n",
              "    </tr>\n",
              "    <tr>\n",
              "      <th>9</th>\n",
              "      <td>validate</td>\n",
              "      <td>0</td>\n",
              "      <td>00_000118.wav</td>\n",
              "      <td>45</td>\n",
              "      <td>1</td>\n",
              "      <td>547</td>\n",
              "      <td>40.729508</td>\n",
              "      <td>-73.993881</td>\n",
              "      <td>2017</td>\n",
              "      <td>40</td>\n",
              "      <td>...</td>\n",
              "      <td>0</td>\n",
              "      <td>0</td>\n",
              "      <td>0</td>\n",
              "      <td>0</td>\n",
              "      <td>0</td>\n",
              "      <td>0</td>\n",
              "      <td>1</td>\n",
              "      <td>0</td>\n",
              "      <td>6</td>\n",
              "      <td>/content/SONYC-UST/data/audio/00_000118.wav</td>\n",
              "    </tr>\n",
              "    <tr>\n",
              "      <th>10</th>\n",
              "      <td>validate</td>\n",
              "      <td>0</td>\n",
              "      <td>00_000118.wav</td>\n",
              "      <td>58</td>\n",
              "      <td>1</td>\n",
              "      <td>547</td>\n",
              "      <td>40.729508</td>\n",
              "      <td>-73.993881</td>\n",
              "      <td>2017</td>\n",
              "      <td>40</td>\n",
              "      <td>...</td>\n",
              "      <td>1</td>\n",
              "      <td>0</td>\n",
              "      <td>0</td>\n",
              "      <td>0</td>\n",
              "      <td>0</td>\n",
              "      <td>0</td>\n",
              "      <td>1</td>\n",
              "      <td>0</td>\n",
              "      <td>0</td>\n",
              "      <td>/content/SONYC-UST/data/audio/00_000118.wav</td>\n",
              "    </tr>\n",
              "  </tbody>\n",
              "</table>\n",
              "<p>10 rows × 80 columns</p>\n",
              "</div>\n",
              "    <div class=\"colab-df-buttons\">\n",
              "\n",
              "  <div class=\"colab-df-container\">\n",
              "    <button class=\"colab-df-convert\" onclick=\"convertToInteractive('df-b7290559-dae8-4ca8-af3c-9e9222c60147')\"\n",
              "            title=\"Convert this dataframe to an interactive table.\"\n",
              "            style=\"display:none;\">\n",
              "\n",
              "  <svg xmlns=\"http://www.w3.org/2000/svg\" height=\"24px\" viewBox=\"0 -960 960 960\">\n",
              "    <path d=\"M120-120v-720h720v720H120Zm60-500h600v-160H180v160Zm220 220h160v-160H400v160Zm0 220h160v-160H400v160ZM180-400h160v-160H180v160Zm440 0h160v-160H620v160ZM180-180h160v-160H180v160Zm440 0h160v-160H620v160Z\"/>\n",
              "  </svg>\n",
              "    </button>\n",
              "\n",
              "  <style>\n",
              "    .colab-df-container {\n",
              "      display:flex;\n",
              "      gap: 12px;\n",
              "    }\n",
              "\n",
              "    .colab-df-convert {\n",
              "      background-color: #E8F0FE;\n",
              "      border: none;\n",
              "      border-radius: 50%;\n",
              "      cursor: pointer;\n",
              "      display: none;\n",
              "      fill: #1967D2;\n",
              "      height: 32px;\n",
              "      padding: 0 0 0 0;\n",
              "      width: 32px;\n",
              "    }\n",
              "\n",
              "    .colab-df-convert:hover {\n",
              "      background-color: #E2EBFA;\n",
              "      box-shadow: 0px 1px 2px rgba(60, 64, 67, 0.3), 0px 1px 3px 1px rgba(60, 64, 67, 0.15);\n",
              "      fill: #174EA6;\n",
              "    }\n",
              "\n",
              "    .colab-df-buttons div {\n",
              "      margin-bottom: 4px;\n",
              "    }\n",
              "\n",
              "    [theme=dark] .colab-df-convert {\n",
              "      background-color: #3B4455;\n",
              "      fill: #D2E3FC;\n",
              "    }\n",
              "\n",
              "    [theme=dark] .colab-df-convert:hover {\n",
              "      background-color: #434B5C;\n",
              "      box-shadow: 0px 1px 3px 1px rgba(0, 0, 0, 0.15);\n",
              "      filter: drop-shadow(0px 1px 2px rgba(0, 0, 0, 0.3));\n",
              "      fill: #FFFFFF;\n",
              "    }\n",
              "  </style>\n",
              "\n",
              "    <script>\n",
              "      const buttonEl =\n",
              "        document.querySelector('#df-b7290559-dae8-4ca8-af3c-9e9222c60147 button.colab-df-convert');\n",
              "      buttonEl.style.display =\n",
              "        google.colab.kernel.accessAllowed ? 'block' : 'none';\n",
              "\n",
              "      async function convertToInteractive(key) {\n",
              "        const element = document.querySelector('#df-b7290559-dae8-4ca8-af3c-9e9222c60147');\n",
              "        const dataTable =\n",
              "          await google.colab.kernel.invokeFunction('convertToInteractive',\n",
              "                                                    [key], {});\n",
              "        if (!dataTable) return;\n",
              "\n",
              "        const docLinkHtml = 'Like what you see? Visit the ' +\n",
              "          '<a target=\"_blank\" href=https://colab.research.google.com/notebooks/data_table.ipynb>data table notebook</a>'\n",
              "          + ' to learn more about interactive tables.';\n",
              "        element.innerHTML = '';\n",
              "        dataTable['output_type'] = 'display_data';\n",
              "        await google.colab.output.renderOutput(dataTable, element);\n",
              "        const docLink = document.createElement('div');\n",
              "        docLink.innerHTML = docLinkHtml;\n",
              "        element.appendChild(docLink);\n",
              "      }\n",
              "    </script>\n",
              "  </div>\n",
              "\n",
              "\n",
              "<div id=\"df-5ea4253b-82fe-4efc-b4de-3af7a1615046\">\n",
              "  <button class=\"colab-df-quickchart\" onclick=\"quickchart('df-5ea4253b-82fe-4efc-b4de-3af7a1615046')\"\n",
              "            title=\"Suggest charts\"\n",
              "            style=\"display:none;\">\n",
              "\n",
              "<svg xmlns=\"http://www.w3.org/2000/svg\" height=\"24px\"viewBox=\"0 0 24 24\"\n",
              "     width=\"24px\">\n",
              "    <g>\n",
              "        <path d=\"M19 3H5c-1.1 0-2 .9-2 2v14c0 1.1.9 2 2 2h14c1.1 0 2-.9 2-2V5c0-1.1-.9-2-2-2zM9 17H7v-7h2v7zm4 0h-2V7h2v10zm4 0h-2v-4h2v4z\"/>\n",
              "    </g>\n",
              "</svg>\n",
              "  </button>\n",
              "\n",
              "<style>\n",
              "  .colab-df-quickchart {\n",
              "      --bg-color: #E8F0FE;\n",
              "      --fill-color: #1967D2;\n",
              "      --hover-bg-color: #E2EBFA;\n",
              "      --hover-fill-color: #174EA6;\n",
              "      --disabled-fill-color: #AAA;\n",
              "      --disabled-bg-color: #DDD;\n",
              "  }\n",
              "\n",
              "  [theme=dark] .colab-df-quickchart {\n",
              "      --bg-color: #3B4455;\n",
              "      --fill-color: #D2E3FC;\n",
              "      --hover-bg-color: #434B5C;\n",
              "      --hover-fill-color: #FFFFFF;\n",
              "      --disabled-bg-color: #3B4455;\n",
              "      --disabled-fill-color: #666;\n",
              "  }\n",
              "\n",
              "  .colab-df-quickchart {\n",
              "    background-color: var(--bg-color);\n",
              "    border: none;\n",
              "    border-radius: 50%;\n",
              "    cursor: pointer;\n",
              "    display: none;\n",
              "    fill: var(--fill-color);\n",
              "    height: 32px;\n",
              "    padding: 0;\n",
              "    width: 32px;\n",
              "  }\n",
              "\n",
              "  .colab-df-quickchart:hover {\n",
              "    background-color: var(--hover-bg-color);\n",
              "    box-shadow: 0 1px 2px rgba(60, 64, 67, 0.3), 0 1px 3px 1px rgba(60, 64, 67, 0.15);\n",
              "    fill: var(--button-hover-fill-color);\n",
              "  }\n",
              "\n",
              "  .colab-df-quickchart-complete:disabled,\n",
              "  .colab-df-quickchart-complete:disabled:hover {\n",
              "    background-color: var(--disabled-bg-color);\n",
              "    fill: var(--disabled-fill-color);\n",
              "    box-shadow: none;\n",
              "  }\n",
              "\n",
              "  .colab-df-spinner {\n",
              "    border: 2px solid var(--fill-color);\n",
              "    border-color: transparent;\n",
              "    border-bottom-color: var(--fill-color);\n",
              "    animation:\n",
              "      spin 1s steps(1) infinite;\n",
              "  }\n",
              "\n",
              "  @keyframes spin {\n",
              "    0% {\n",
              "      border-color: transparent;\n",
              "      border-bottom-color: var(--fill-color);\n",
              "      border-left-color: var(--fill-color);\n",
              "    }\n",
              "    20% {\n",
              "      border-color: transparent;\n",
              "      border-left-color: var(--fill-color);\n",
              "      border-top-color: var(--fill-color);\n",
              "    }\n",
              "    30% {\n",
              "      border-color: transparent;\n",
              "      border-left-color: var(--fill-color);\n",
              "      border-top-color: var(--fill-color);\n",
              "      border-right-color: var(--fill-color);\n",
              "    }\n",
              "    40% {\n",
              "      border-color: transparent;\n",
              "      border-right-color: var(--fill-color);\n",
              "      border-top-color: var(--fill-color);\n",
              "    }\n",
              "    60% {\n",
              "      border-color: transparent;\n",
              "      border-right-color: var(--fill-color);\n",
              "    }\n",
              "    80% {\n",
              "      border-color: transparent;\n",
              "      border-right-color: var(--fill-color);\n",
              "      border-bottom-color: var(--fill-color);\n",
              "    }\n",
              "    90% {\n",
              "      border-color: transparent;\n",
              "      border-bottom-color: var(--fill-color);\n",
              "    }\n",
              "  }\n",
              "</style>\n",
              "\n",
              "  <script>\n",
              "    async function quickchart(key) {\n",
              "      const quickchartButtonEl =\n",
              "        document.querySelector('#' + key + ' button');\n",
              "      quickchartButtonEl.disabled = true;  // To prevent multiple clicks.\n",
              "      quickchartButtonEl.classList.add('colab-df-spinner');\n",
              "      try {\n",
              "        const charts = await google.colab.kernel.invokeFunction(\n",
              "            'suggestCharts', [key], {});\n",
              "      } catch (error) {\n",
              "        console.error('Error during call to suggestCharts:', error);\n",
              "      }\n",
              "      quickchartButtonEl.classList.remove('colab-df-spinner');\n",
              "      quickchartButtonEl.classList.add('colab-df-quickchart-complete');\n",
              "    }\n",
              "    (() => {\n",
              "      let quickchartButtonEl =\n",
              "        document.querySelector('#df-5ea4253b-82fe-4efc-b4de-3af7a1615046 button');\n",
              "      quickchartButtonEl.style.display =\n",
              "        google.colab.kernel.accessAllowed ? 'block' : 'none';\n",
              "    })();\n",
              "  </script>\n",
              "</div>\n",
              "    </div>\n",
              "  </div>\n"
            ],
            "text/plain": [
              "       split  sensor_id audio_filename  annotator_id  borough  block  \\\n",
              "0   validate          0  00_000066.wav            95        1    547   \n",
              "1   validate          0  00_000066.wav           108        1    547   \n",
              "2   validate          0  00_000066.wav           127        1    547   \n",
              "3   validate          0  00_000071.wav            64        1    547   \n",
              "4   validate          0  00_000071.wav            66        1    547   \n",
              "5   validate          0  00_000071.wav           133        1    547   \n",
              "7   validate          0  00_000085.wav           133        1    547   \n",
              "8   validate          0  00_000085.wav           152        1    547   \n",
              "9   validate          0  00_000118.wav            45        1    547   \n",
              "10  validate          0  00_000118.wav            58        1    547   \n",
              "\n",
              "     latitude  longitude  year  week  ...  1_engine_presence  \\\n",
              "0   40.729508 -73.993881  2017    28  ...                  1   \n",
              "1   40.729508 -73.993881  2017    28  ...                  1   \n",
              "2   40.729508 -73.993881  2017    28  ...                  1   \n",
              "3   40.729508 -73.993881  2016    50  ...                  1   \n",
              "4   40.729508 -73.993881  2016    50  ...                  0   \n",
              "5   40.729508 -73.993881  2016    50  ...                  0   \n",
              "7   40.729508 -73.993881  2017     3  ...                  0   \n",
              "8   40.729508 -73.993881  2017     3  ...                  1   \n",
              "9   40.729508 -73.993881  2017    40  ...                  0   \n",
              "10  40.729508 -73.993881  2017    40  ...                  1   \n",
              "\n",
              "    2_machinery-impact_presence  3_non-machinery-impact_presence  \\\n",
              "0                             1                                1   \n",
              "1                             0                                0   \n",
              "2                             0                                0   \n",
              "3                             0                                0   \n",
              "4                             0                                0   \n",
              "5                             1                                0   \n",
              "7                             1                                0   \n",
              "8                             0                                0   \n",
              "9                             0                                0   \n",
              "10                            0                                0   \n",
              "\n",
              "    4_powered-saw_presence  5_alert-signal_presence  6_music_presence  \\\n",
              "0                        1                        1                 1   \n",
              "1                        0                        0                 0   \n",
              "2                        0                        0                 0   \n",
              "3                        0                        0                 0   \n",
              "4                        1                        0                 0   \n",
              "5                        0                        0                 0   \n",
              "7                        0                        0                 0   \n",
              "8                        1                        0                 0   \n",
              "9                        0                        0                 0   \n",
              "10                       0                        0                 0   \n",
              "\n",
              "    7_human-voice_presence  8_dog_presence  target  \\\n",
              "0                        1               1       0   \n",
              "1                        0               0       0   \n",
              "2                        0               0       0   \n",
              "3                        0               0       0   \n",
              "4                        0               0       3   \n",
              "5                        0               0       1   \n",
              "7                        0               0       1   \n",
              "8                        0               0       0   \n",
              "9                        1               0       6   \n",
              "10                       1               0       0   \n",
              "\n",
              "                                       filename  \n",
              "0   /content/SONYC-UST/data/audio/00_000066.wav  \n",
              "1   /content/SONYC-UST/data/audio/00_000066.wav  \n",
              "2   /content/SONYC-UST/data/audio/00_000066.wav  \n",
              "3   /content/SONYC-UST/data/audio/00_000071.wav  \n",
              "4   /content/SONYC-UST/data/audio/00_000071.wav  \n",
              "5   /content/SONYC-UST/data/audio/00_000071.wav  \n",
              "7   /content/SONYC-UST/data/audio/00_000085.wav  \n",
              "8   /content/SONYC-UST/data/audio/00_000085.wav  \n",
              "9   /content/SONYC-UST/data/audio/00_000118.wav  \n",
              "10  /content/SONYC-UST/data/audio/00_000118.wav  \n",
              "\n",
              "[10 rows x 80 columns]"
            ]
          },
          "execution_count": 11,
          "metadata": {},
          "output_type": "execute_result"
        }
      ],
      "source": [
        "# Filter DataFrame to include rows where any specified class presence is 1\n",
        "filtered_pd = pd_data[(pd_data[classes_of_interest] == 1).any(axis=1)]\n",
        "\n",
        "# Map presence columns to new IDs if necessary\n",
        "map_class_to_id = {name: idx for idx, name in enumerate(classes_of_interest, start=0)}\n",
        "\n",
        "# Create a new target column based on the first matching class of interest\n",
        "filtered_pd['target'] = (filtered_pd[classes_of_interest] == 1).idxmax(axis=1)\n",
        "filtered_pd['target'] = filtered_pd['target'].apply(lambda name: map_class_to_id[name])\n",
        "\n",
        "# Update the filename column to contain the full path to each audio file\n",
        "filtered_pd['filename'] = filtered_pd['audio_filename'].apply(lambda x: os.path.join(base_audio_path, x))\n",
        "\n",
        "# Display the first 10 rows of the filtered DataFrame\n",
        "filtered_pd.head(10)"
      ]
    },
    {
      "cell_type": "code",
      "execution_count": null,
      "metadata": {
        "colab": {
          "base_uri": "https://localhost:8080/"
        },
        "id": "3zn24JvRMnvh",
        "outputId": "d072fc89-1e32-4f89-a07a-f6c2ec050b2b"
      },
      "outputs": [
        {
          "name": "stdout",
          "output_type": "stream",
          "text": [
            "Index(['split', 'sensor_id', 'audio_filename', 'annotator_id', 'borough',\n",
            "       'block', 'latitude', 'longitude', 'year', 'week', 'day', 'hour',\n",
            "       '1-1_small-sounding-engine_presence',\n",
            "       '1-2_medium-sounding-engine_presence',\n",
            "       '1-3_large-sounding-engine_presence',\n",
            "       '1-X_engine-of-uncertain-size_presence', '2-1_rock-drill_presence',\n",
            "       '2-2_jackhammer_presence', '2-3_hoe-ram_presence',\n",
            "       '2-4_pile-driver_presence',\n",
            "       '2-X_other-unknown-impact-machinery_presence',\n",
            "       '3-1_non-machinery-impact_presence', '4-1_chainsaw_presence',\n",
            "       '4-2_small-medium-rotating-saw_presence',\n",
            "       '4-3_large-rotating-saw_presence',\n",
            "       '4-X_other-unknown-powered-saw_presence', '5-1_car-horn_presence',\n",
            "       '5-2_car-alarm_presence', '5-3_siren_presence',\n",
            "       '5-4_reverse-beeper_presence',\n",
            "       '5-X_other-unknown-alert-signal_presence',\n",
            "       '6-1_stationary-music_presence', '6-2_mobile-music_presence',\n",
            "       '6-3_ice-cream-truck_presence',\n",
            "       '6-X_music-from-uncertain-source_presence',\n",
            "       '7-1_person-or-small-group-talking_presence',\n",
            "       '7-2_person-or-small-group-shouting_presence',\n",
            "       '7-3_large-crowd_presence', '7-4_amplified-speech_presence',\n",
            "       '7-X_other-unknown-human-voice_presence',\n",
            "       '8-1_dog-barking-whining_presence',\n",
            "       '1-1_small-sounding-engine_proximity',\n",
            "       '1-2_medium-sounding-engine_proximity',\n",
            "       '1-3_large-sounding-engine_proximity',\n",
            "       '1-X_engine-of-uncertain-size_proximity', '2-1_rock-drill_proximity',\n",
            "       '2-2_jackhammer_proximity', '2-3_hoe-ram_proximity',\n",
            "       '2-4_pile-driver_proximity',\n",
            "       '2-X_other-unknown-impact-machinery_proximity',\n",
            "       '3-1_non-machinery-impact_proximity', '4-1_chainsaw_proximity',\n",
            "       '4-2_small-medium-rotating-saw_proximity',\n",
            "       '4-3_large-rotating-saw_proximity',\n",
            "       '4-X_other-unknown-powered-saw_proximity', '5-1_car-horn_proximity',\n",
            "       '5-2_car-alarm_proximity', '5-3_siren_proximity',\n",
            "       '5-4_reverse-beeper_proximity',\n",
            "       '5-X_other-unknown-alert-signal_proximity',\n",
            "       '6-1_stationary-music_proximity', '6-2_mobile-music_proximity',\n",
            "       '6-3_ice-cream-truck_proximity',\n",
            "       '6-X_music-from-uncertain-source_proximity',\n",
            "       '7-1_person-or-small-group-talking_proximity',\n",
            "       '7-2_person-or-small-group-shouting_proximity',\n",
            "       '7-3_large-crowd_proximity', '7-4_amplified-speech_proximity',\n",
            "       '7-X_other-unknown-human-voice_proximity',\n",
            "       '8-1_dog-barking-whining_proximity', '1_engine_presence',\n",
            "       '2_machinery-impact_presence', '3_non-machinery-impact_presence',\n",
            "       '4_powered-saw_presence', '5_alert-signal_presence', '6_music_presence',\n",
            "       '7_human-voice_presence', '8_dog_presence', 'target', 'filename'],\n",
            "      dtype='object')\n"
          ]
        }
      ],
      "source": [
        "# Print the column names of the DataFrame\n",
        "print(filtered_pd.columns)"
      ]
    },
    {
      "cell_type": "markdown",
      "metadata": {
        "id": "OCcoQrOFGQCg"
      },
      "source": [
        "### Load the audio files and retrieve embeddings\n",
        "\n",
        "Here you'll apply the `load_wav_16k_mono` and prepare the WAV data for the model.\n",
        "\n",
        "When extracting embeddings from the WAV data, you get an array of shape `(N, 1024)`  where `N` is the number of frames that YAMNet found (one for every 0.48 seconds of audio)."
      ]
    },
    {
      "cell_type": "markdown",
      "metadata": {
        "id": "7u80zqknGRTR"
      },
      "source": [
        "Your model will use each frame as one input. Therefore, you need to create a new column that has one frame per row. You also need to expand the labels and the `fold` column to proper reflect these new rows.\n",
        "\n",
        "The expanded `fold` column keeps the original values. You cannot mix frames because, when performing the splits, you might end up having parts of the same audio on different splits, which would make your validation and test steps less effective."
      ]
    },
    {
      "cell_type": "code",
      "execution_count": null,
      "metadata": {
        "id": "lfCc1U9kCKxX"
      },
      "outputs": [],
      "source": [
        "import tensorflow as tf\n",
        "\n",
        "# Ensure 'filename' is treated as string\n",
        "filenames = filtered_pd['filename'].astype(str).values\n",
        "targets = filtered_pd['target'].values\n",
        "splits = filtered_pd['split'].values\n",
        "\n",
        "# Create the TensorFlow dataset\n",
        "main_ds = tf.data.Dataset.from_tensor_slices((filenames, targets, splits))"
      ]
    },
    {
      "cell_type": "code",
      "execution_count": null,
      "metadata": {
        "colab": {
          "base_uri": "https://localhost:8080/"
        },
        "id": "BAQapFQlIALk",
        "outputId": "3ecea995-0408-4079-e35c-ff27c392c612"
      },
      "outputs": [
        {
          "data": {
            "text/plain": [
              "(TensorSpec(shape=<unknown>, dtype=tf.float32, name=None),\n",
              " TensorSpec(shape=(), dtype=tf.int64, name=None),\n",
              " TensorSpec(shape=(), dtype=tf.string, name=None))"
            ]
          },
          "execution_count": 39,
          "metadata": {},
          "output_type": "execute_result"
        }
      ],
      "source": [
        "def load_wav_for_map(filename, target, split):\n",
        "  return load_wav_16k_mono(filename), target, split\n",
        "\n",
        "main_ds = main_ds.map(load_wav_for_map)\n",
        "main_ds.element_spec"
      ]
    },
    {
      "cell_type": "code",
      "execution_count": null,
      "metadata": {
        "colab": {
          "base_uri": "https://localhost:8080/"
        },
        "id": "vvJpmHveeAv4",
        "outputId": "01ef252b-f371-40d1-f750-d3ec1a4efbf7"
      },
      "outputs": [
        {
          "data": {
            "text/plain": [
              "(TensorSpec(shape=(1024,), dtype=tf.float32, name=None),\n",
              " TensorSpec(shape=(), dtype=tf.int64, name=None),\n",
              " TensorSpec(shape=(), dtype=tf.string, name=None))"
            ]
          },
          "execution_count": 40,
          "metadata": {},
          "output_type": "execute_result"
        }
      ],
      "source": [
        "# applies the embedding extraction model to a wav data\n",
        "def extract_embedding(wav_data, target, split):\n",
        "  ''' run YAMNet to extract embedding from the wav data '''\n",
        "  scores, embeddings, spectrogram = yamnet_model(wav_data)\n",
        "  num_embeddings = tf.shape(embeddings)[0]\n",
        "  return (embeddings,\n",
        "            tf.repeat(target, num_embeddings),\n",
        "            tf.repeat(split, num_embeddings))\n",
        "\n",
        "# extract embedding\n",
        "main_ds = main_ds.map(extract_embedding).unbatch()\n",
        "main_ds.element_spec"
      ]
    },
    {
      "cell_type": "code",
      "execution_count": null,
      "metadata": {
        "colab": {
          "base_uri": "https://localhost:8080/"
        },
        "id": "_KCfXdMifDtZ",
        "outputId": "1502f79d-7afe-4a3f-be66-9314542f12a7"
      },
      "outputs": [
        {
          "name": "stdout",
          "output_type": "stream",
          "text": [
            "TensorFlow file: /usr/local/lib/python3.10/dist-packages/tensorflow/__init__.py\n",
            "Dataset_ops file: /usr/local/lib/python3.10/dist-packages/tensorflow/python/data/ops/dataset_ops.py\n"
          ]
        }
      ],
      "source": [
        "import tensorflow as tf\n",
        "import tensorflow.python.data.ops.dataset_ops as dataset_ops\n",
        "\n",
        "print(\"TensorFlow file:\", tf.__file__)\n",
        "print(\"Dataset_ops file:\", dataset_ops.__file__)\n",
        "\n"
      ]
    },
    {
      "cell_type": "markdown",
      "metadata": {
        "id": "svdI-23NIVmM"
      },
      "source": [
        "### Split the data\n",
        "\n",
        "You will use the `split` column to split the dataset into train, validation and test sets.\n",
        "\n",
        "SONYC is arranged into five uniformly-sized cross-validation `split`s, such that clips from the same original source are always in the same `split` - find out more in the  paper.\n",
        "\n",
        "The last step is to remove the `split` column from the dataset since you're not going to use it during training."
      ]
    },
    {
      "cell_type": "code",
      "execution_count": null,
      "metadata": {
        "id": "M3XD0rk9Ibrg"
      },
      "outputs": [],
      "source": [
        "import tensorflow as tf\n",
        "\n",
        "# Cache the entire dataset to improve performance\n",
        "cached_ds = main_ds.cache()\n",
        "\n",
        "# Filter datasets based on the 'split' column value using string comparison\n",
        "train_ds = cached_ds.filter(lambda embedding, target, split: tf.equal(split, 'train'))\n",
        "val_ds = cached_ds.filter(lambda embedding, target, split: tf.equal(split, 'validate'))\n",
        "test_ds = cached_ds.filter(lambda embedding, target, split: tf.equal(split, 'test'))\n",
        "\n",
        "# Define a function to remove the 'split' column now that it's not needed anymore\n",
        "def remove_split_column(embedding, target, split):\n",
        "    return embedding, target\n",
        "\n",
        "# Apply the function to remove the 'split' column from each dataset\n",
        "train_ds = train_ds.map(remove_split_column)\n",
        "val_ds = val_ds.map(remove_split_column)\n",
        "test_ds = test_ds.map(remove_split_column)\n",
        "\n",
        "# Final dataset preparation for training, validation, and testing\n",
        "train_ds = train_ds.cache().shuffle(1000).batch(32).prefetch(tf.data.AUTOTUNE)\n",
        "val_ds = val_ds.cache().batch(32).prefetch(tf.data.AUTOTUNE)\n",
        "test_ds = test_ds.cache().batch(32).prefetch(tf.data.AUTOTUNE)\n"
      ]
    },
    {
      "cell_type": "markdown",
      "metadata": {
        "id": "h4tqPD7bOL0b"
      },
      "source": [
        "## Create my model"
      ]
    },
    {
      "cell_type": "code",
      "execution_count": null,
      "metadata": {
        "id": "97wT04VYIb29"
      },
      "outputs": [],
      "source": [
        "import tensorflow as tf\n",
        "\n",
        "# Define the number of classes you have\n",
        "num_classes = 8  # Update this if the number of classes changes\n",
        "\n",
        "# Create the model using the TensorFlow Keras API\n",
        "my_model = tf.keras.Sequential([\n",
        "    tf.keras.layers.Input(shape=(1024,), dtype=tf.float32, name='input_embedding'),  # Ensure the input shape matches the output shape of YAMNet embeddings\n",
        "    tf.keras.layers.Dense(512, activation='relu'),\n",
        "    tf.keras.layers.Dense(num_classes)  # Output layer with a node for each class\n",
        "], name='my_model')\n"
      ]
    },
    {
      "cell_type": "code",
      "execution_count": null,
      "metadata": {
        "colab": {
          "base_uri": "https://localhost:8080/"
        },
        "id": "NJKTOc9sOUzt",
        "outputId": "3b5ab179-3337-4b19-d5e4-1f74486bc2b3"
      },
      "outputs": [
        {
          "name": "stdout",
          "output_type": "stream",
          "text": [
            "Model: \"my_model\"\n",
            "_________________________________________________________________\n",
            " Layer (type)                Output Shape              Param #   \n",
            "=================================================================\n",
            " dense (Dense)               (None, 512)               524800    \n",
            "                                                                 \n",
            " dense_1 (Dense)             (None, 8)                 4104      \n",
            "                                                                 \n",
            "=================================================================\n",
            "Total params: 528,904\n",
            "Trainable params: 528,904\n",
            "Non-trainable params: 0\n",
            "_________________________________________________________________\n"
          ]
        }
      ],
      "source": [
        "# Display the model's architecture\n",
        "my_model.summary()\n",
        "\n",
        "# Compile the model with the specified loss function, optimizer, and metrics\n",
        "my_model.compile(\n",
        "    loss=tf.keras.losses.SparseCategoricalCrossentropy(from_logits=True),\n",
        "    optimizer=\"adam\",\n",
        "    metrics=['accuracy']\n",
        ")\n"
      ]
    },
    {
      "cell_type": "code",
      "execution_count": null,
      "metadata": {
        "id": "hIqgMFXhOWe7"
      },
      "outputs": [],
      "source": [
        "# Set up early stopping to avoid overfitting\n",
        "callback = tf.keras.callbacks.EarlyStopping(\n",
        "    monitor='loss',\n",
        "    patience=3,\n",
        "    restore_best_weights=True\n",
        ")"
      ]
    },
    {
      "cell_type": "code",
      "execution_count": null,
      "metadata": {
        "colab": {
          "background_save": true,
          "base_uri": "https://localhost:8080/"
        },
        "id": "HOLQQjpGOWvT",
        "outputId": "9ad55b19-eac4-4201-93d9-e863c9778547"
      },
      "outputs": [
        {
          "name": "stdout",
          "output_type": "stream",
          "text": [
            "GPU not available, consider changing the runtime type to GPU.\n",
            "Epoch 1/10\n",
            "19377/19377 [==============================] - 1679s 84ms/step - loss: 1.1106 - accuracy: 0.6036 - val_loss: 1.3215 - val_accuracy: 0.5563\n",
            "Epoch 2/10\n",
            "19377/19377 [==============================] - 68s 4ms/step - loss: 1.1170 - accuracy: 0.6031 - val_loss: 1.3404 - val_accuracy: 0.5489\n",
            "Epoch 3/10\n",
            "19377/19377 [==============================] - 68s 3ms/step - loss: 1.1200 - accuracy: 0.6027 - val_loss: 1.3348 - val_accuracy: 0.5532\n",
            "Epoch 4/10\n",
            "19377/19377 [==============================] - 68s 3ms/step - loss: 1.1165 - accuracy: 0.6038 - val_loss: 1.3426 - val_accuracy: 0.5541\n",
            "Total training time for 20 epochs: 31.38 minutes\n"
          ]
        }
      ],
      "source": [
        "# Ensure you have a GPU enabled\n",
        "import tensorflow as tf\n",
        "\n",
        "# Check if GPU is available and identify the GPU type\n",
        "gpu = tf.config.experimental.list_physical_devices('GPU')\n",
        "if gpu:\n",
        "    print('GPU is available:', tf.test.gpu_device_name(), '\\nGPU details:', gpu)\n",
        "else:\n",
        "    print('GPU not available, consider changing the runtime type to GPU.')\n",
        "\n",
        "import time\n",
        "\n",
        "# Training the model\n",
        "start_time = time.time()\n",
        "history = my_model.fit(\n",
        "    train_ds,\n",
        "    epochs=10,\n",
        "    validation_data=val_ds,\n",
        "    callbacks=[callback]\n",
        ")\n",
        "end_time = time.time()\n",
        "\n",
        "# Calculate and print the training time\n",
        "total_training_time = end_time - start_time\n",
        "print(f\"Total training time for 20 epochs: {total_training_time / 60:.2f} minutes\")\n"
      ]
    },
    {
      "cell_type": "code",
      "execution_count": null,
      "metadata": {
        "id": "Bk9aW1w7OW1J"
      },
      "outputs": [],
      "source": [
        "# Evaluate the model on the test dataset to determine its final accuracy\n",
        "loss, accuracy = my_model.evaluate(test_ds)\n",
        "# Print out the loss and accuracy\n",
        "print(\"Loss: \", loss)\n",
        "print(\"Accuracy: \", accuracy)"
      ]
    },
    {
      "cell_type": "markdown",
      "metadata": {
        "id": "6AvpRHRFjq6Y"
      },
      "source": [
        "Plot the model"
      ]
    },
    {
      "cell_type": "code",
      "execution_count": null,
      "metadata": {
        "id": "A87Jw7T5jtRb"
      },
      "outputs": [],
      "source": [
        "import matplotlib.pyplot as plt\n",
        "\n",
        "# Plot training & validation accuracy values\n",
        "plt.plot(history.history['accuracy'])\n",
        "plt.plot(history.history['val_accuracy'])\n",
        "plt.title('Model Accuracy')\n",
        "plt.ylabel('Accuracy')\n",
        "plt.xlabel('Epoch')\n",
        "plt.legend(['Train', 'Validation'], loc='upper left')\n",
        "plt.show()\n"
      ]
    },
    {
      "cell_type": "code",
      "execution_count": null,
      "metadata": {
        "id": "A_WaStH3jypm"
      },
      "outputs": [],
      "source": [
        "# Plot training & validation loss values\n",
        "plt.plot(history.history['loss'])\n",
        "plt.plot(history.history['val_loss'])\n",
        "plt.title('Model Loss')\n",
        "plt.ylabel('Loss')\n",
        "plt.xlabel('Epoch')\n",
        "plt.legend(['Train', 'Validation'], loc='upper left')\n",
        "plt.show()"
      ]
    },
    {
      "cell_type": "code",
      "execution_count": null,
      "metadata": {
        "id": "4_Fy_3JUj3oS"
      },
      "outputs": [],
      "source": [
        "from sklearn.metrics import confusion_matrix\n",
        "import seaborn as sns\n",
        "\n",
        "# Assume predictions and true_labels are available from your model's evaluation\n",
        "conf_mat = confusion_matrix(true_labels, predictions)\n",
        "sns.heatmap(conf_mat, annot=True, fmt='d', cmap='Blues', xticklabels=class_names, yticklabels=class_names)\n",
        "plt.xlabel('Predicted Labels')\n",
        "plt.ylabel('True Labels')\n",
        "plt.title('Confusion Matrix')\n",
        "plt.show()"
      ]
    },
    {
      "cell_type": "code",
      "execution_count": null,
      "metadata": {
        "id": "mKWTSiV_j4ek"
      },
      "outputs": [],
      "source": [
        "from sklearn.manifold import TSNE\n",
        "\n",
        "# Assuming 'embeddings' are extracted from the YAMNet model\n",
        "tsne = TSNE(n_components=2, random_state=0)\n",
        "embeddings_2d = tsne.fit_transform(embeddings)\n",
        "\n",
        "plt.figure(figsize=(10, 5))\n",
        "scatter = plt.scatter(embeddings_2d[:, 0], embeddings_2d[:, 1], c=labels, cmap='viridis')\n",
        "plt.colorbar(scatter)\n",
        "plt.xlabel('TSNE Component 1')\n",
        "plt.ylabel('TSNE Component 2')\n",
        "plt.title('Embedding Space')\n",
        "plt.show()"
      ]
    },
    {
      "cell_type": "code",
      "execution_count": null,
      "metadata": {
        "id": "Azah8p1BkBqL"
      },
      "outputs": [],
      "source": [
        "from sklearn.metrics import roc_curve, auc\n",
        "\n",
        "# Calculate ROC curve from y_test and preds\n",
        "fpr, tpr, thresholds = roc_curve(y_test, preds)\n",
        "roc_auc = auc(fpr, tpr)\n",
        "\n",
        "plt.figure()\n",
        "plt.plot(fpr, tpr, color='darkorange', lw=2, label='ROC curve (area = %0.2f)' % roc_auc)\n",
        "plt.plot([0, 1], [0, 1], color='navy', lw=2, linestyle='--')\n",
        "plt.xlim([0.0, 1.0])\n",
        "plt.ylim([0.0, 1.05])\n",
        "plt.xlabel('False Positive Rate')\n",
        "plt.ylabel('True Positive Rate')\n",
        "plt.title('Receiver Operating Characteristic')\n",
        "plt.legend(loc=\"lower right\")\n",
        "plt.show()"
      ]
    },
    {
      "cell_type": "code",
      "execution_count": null,
      "metadata": {
        "id": "InzBDmelkB2q"
      },
      "outputs": [],
      "source": [
        "# Plotting waveform\n",
        "plt.figure(figsize=(10, 4))\n",
        "plt.plot(waveform.numpy())\n",
        "plt.title('Waveform of Audio Sample')\n",
        "plt.xlabel('Sample Index')\n",
        "plt.ylabel('Amplitude')\n",
        "plt.show()\n",
        "\n",
        "# If you have spectrogram data available\n",
        "plt.figure(figsize=(10, 4))\n",
        "plt.imshow(spectrogram.numpy(), aspect='auto', origin='lower')\n",
        "plt.title('Spectrogram of Audio Sample')\n",
        "plt.xlabel('Time Frame')\n",
        "plt.ylabel('Frequency')\n",
        "plt.colorbar()\n",
        "plt.show()\n"
      ]
    },
    {
      "cell_type": "markdown",
      "metadata": {
        "id": "WlMWBya_YQNq"
      },
      "source": [
        "Test your model\n",
        "Next, try your model on the embedding from the previous test using YAMNet only."
      ]
    },
    {
      "cell_type": "code",
      "execution_count": null,
      "metadata": {
        "id": "XHSyB2cAOW6Y"
      },
      "outputs": [],
      "source": []
    }
  ],
  "metadata": {
    "accelerator": "GPU",
    "colab": {
      "gpuType": "A100",
      "machine_shape": "hm",
      "provenance": [],
      "authorship_tag": "ABX9TyNRV0TeJ3DuLYYbrsXlt31t",
      "include_colab_link": true
    },
    "kernelspec": {
      "display_name": "Python 3",
      "name": "python3"
    },
    "language_info": {
      "name": "python"
    }
  },
  "nbformat": 4,
  "nbformat_minor": 0
}